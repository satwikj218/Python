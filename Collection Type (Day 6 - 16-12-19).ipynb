{
 "cells": [
  {
   "cell_type": "markdown",
   "metadata": {},
   "source": [
    "### Collection Type:\n",
    "- List\n",
    "- Tuple\n",
    "- Dictionary"
   ]
  },
  {
   "cell_type": "markdown",
   "metadata": {},
   "source": [
    "### List"
   ]
  },
  {
   "cell_type": "code",
   "execution_count": 17,
   "metadata": {},
   "outputs": [
    {
     "name": "stdout",
     "output_type": "stream",
     "text": [
      "[12, 23, 45.6, 200, 'abc', True, 45.6, 100, 400, 500, 600]\n"
     ]
    }
   ],
   "source": [
    "# List - List is Indexed, Ordered, Mutable, and allows Duplicate Values\n",
    "list1 = [12,23,45.6,\"abc\",True]\n",
    "# Adding Elements\n",
    "list1.append(45.6)             # Adds at Last of List, Append takes only one Argument\n",
    "list1.append(100)\n",
    "list1.insert(3,200)            # insert(pos, value)\n",
    "list1.extend([400,500,600])    # For giving multiple value, extend([list values]), values added at end of List\n",
    "print(list1)"
   ]
  },
  {
   "cell_type": "code",
   "execution_count": 19,
   "metadata": {},
   "outputs": [
    {
     "name": "stdout",
     "output_type": "stream",
     "text": [
      "[12, 23, 45.6, 200, True, 45.6, 100, 400]\n",
      "[12, 23, 45.6, 200, 45.6, 100, 400] True\n",
      "[12, 23, 45.6, 45.6, 100, 400]\n"
     ]
    }
   ],
   "source": [
    "#Removing Elements - pop(), remove()\n",
    "del list1[-1]     # Index should be mentioned\n",
    "print(list1)\n",
    "r = list1.pop(4)  # If Index is known\n",
    "print(list1,r)\n",
    "list1.remove(200) # If Index is not known\n",
    "print(list1)"
   ]
  },
  {
   "cell_type": "code",
   "execution_count": 21,
   "metadata": {},
   "outputs": [
    {
     "name": "stdout",
     "output_type": "stream",
     "text": [
      "[10, 500, 30]\n",
      "[30, 500, 10]\n"
     ]
    }
   ],
   "source": [
    "# Assignments in List\n",
    "list2 = [10,20,30]\n",
    "list2[1] = 500\n",
    "print(list2)\n",
    "list2.reverse()\n",
    "print(list2)"
   ]
  },
  {
   "cell_type": "code",
   "execution_count": 23,
   "metadata": {},
   "outputs": [
    {
     "name": "stdout",
     "output_type": "stream",
     "text": [
      "[10, 30, 500]\n",
      "[500, 30, 10]\n"
     ]
    }
   ],
   "source": [
    "# Sort\n",
    "list2.sort() # Ascending by Default\n",
    "print(list2)\n",
    "list2.sort(reverse = True) # Descending Order\n",
    "print(list2)"
   ]
  },
  {
   "cell_type": "code",
   "execution_count": 26,
   "metadata": {},
   "outputs": [
    {
     "data": {
      "text/plain": [
       "2"
      ]
     },
     "execution_count": 26,
     "metadata": {},
     "output_type": "execute_result"
    }
   ],
   "source": [
    "# Find the Index\n",
    "list2.index(10) # index(value)"
   ]
  },
  {
   "cell_type": "code",
   "execution_count": 27,
   "metadata": {},
   "outputs": [
    {
     "name": "stdout",
     "output_type": "stream",
     "text": [
      "Help on class list in module builtins:\n",
      "\n",
      "class list(object)\n",
      " |  list(iterable=(), /)\n",
      " |  \n",
      " |  Built-in mutable sequence.\n",
      " |  \n",
      " |  If no argument is given, the constructor creates a new empty list.\n",
      " |  The argument must be an iterable if specified.\n",
      " |  \n",
      " |  Methods defined here:\n",
      " |  \n",
      " |  __add__(self, value, /)\n",
      " |      Return self+value.\n",
      " |  \n",
      " |  __contains__(self, key, /)\n",
      " |      Return key in self.\n",
      " |  \n",
      " |  __delitem__(self, key, /)\n",
      " |      Delete self[key].\n",
      " |  \n",
      " |  __eq__(self, value, /)\n",
      " |      Return self==value.\n",
      " |  \n",
      " |  __ge__(self, value, /)\n",
      " |      Return self>=value.\n",
      " |  \n",
      " |  __getattribute__(self, name, /)\n",
      " |      Return getattr(self, name).\n",
      " |  \n",
      " |  __getitem__(...)\n",
      " |      x.__getitem__(y) <==> x[y]\n",
      " |  \n",
      " |  __gt__(self, value, /)\n",
      " |      Return self>value.\n",
      " |  \n",
      " |  __iadd__(self, value, /)\n",
      " |      Implement self+=value.\n",
      " |  \n",
      " |  __imul__(self, value, /)\n",
      " |      Implement self*=value.\n",
      " |  \n",
      " |  __init__(self, /, *args, **kwargs)\n",
      " |      Initialize self.  See help(type(self)) for accurate signature.\n",
      " |  \n",
      " |  __iter__(self, /)\n",
      " |      Implement iter(self).\n",
      " |  \n",
      " |  __le__(self, value, /)\n",
      " |      Return self<=value.\n",
      " |  \n",
      " |  __len__(self, /)\n",
      " |      Return len(self).\n",
      " |  \n",
      " |  __lt__(self, value, /)\n",
      " |      Return self<value.\n",
      " |  \n",
      " |  __mul__(self, value, /)\n",
      " |      Return self*value.\n",
      " |  \n",
      " |  __ne__(self, value, /)\n",
      " |      Return self!=value.\n",
      " |  \n",
      " |  __repr__(self, /)\n",
      " |      Return repr(self).\n",
      " |  \n",
      " |  __reversed__(self, /)\n",
      " |      Return a reverse iterator over the list.\n",
      " |  \n",
      " |  __rmul__(self, value, /)\n",
      " |      Return value*self.\n",
      " |  \n",
      " |  __setitem__(self, key, value, /)\n",
      " |      Set self[key] to value.\n",
      " |  \n",
      " |  __sizeof__(self, /)\n",
      " |      Return the size of the list in memory, in bytes.\n",
      " |  \n",
      " |  append(self, object, /)\n",
      " |      Append object to the end of the list.\n",
      " |  \n",
      " |  clear(self, /)\n",
      " |      Remove all items from list.\n",
      " |  \n",
      " |  copy(self, /)\n",
      " |      Return a shallow copy of the list.\n",
      " |  \n",
      " |  count(self, value, /)\n",
      " |      Return number of occurrences of value.\n",
      " |  \n",
      " |  extend(self, iterable, /)\n",
      " |      Extend list by appending elements from the iterable.\n",
      " |  \n",
      " |  index(self, value, start=0, stop=9223372036854775807, /)\n",
      " |      Return first index of value.\n",
      " |      \n",
      " |      Raises ValueError if the value is not present.\n",
      " |  \n",
      " |  insert(self, index, object, /)\n",
      " |      Insert object before index.\n",
      " |  \n",
      " |  pop(self, index=-1, /)\n",
      " |      Remove and return item at index (default last).\n",
      " |      \n",
      " |      Raises IndexError if list is empty or index is out of range.\n",
      " |  \n",
      " |  remove(self, value, /)\n",
      " |      Remove first occurrence of value.\n",
      " |      \n",
      " |      Raises ValueError if the value is not present.\n",
      " |  \n",
      " |  reverse(self, /)\n",
      " |      Reverse *IN PLACE*.\n",
      " |  \n",
      " |  sort(self, /, *, key=None, reverse=False)\n",
      " |      Stable sort *IN PLACE*.\n",
      " |  \n",
      " |  ----------------------------------------------------------------------\n",
      " |  Static methods defined here:\n",
      " |  \n",
      " |  __new__(*args, **kwargs) from builtins.type\n",
      " |      Create and return a new object.  See help(type) for accurate signature.\n",
      " |  \n",
      " |  ----------------------------------------------------------------------\n",
      " |  Data and other attributes defined here:\n",
      " |  \n",
      " |  __hash__ = None\n",
      "\n"
     ]
    }
   ],
   "source": [
    "help(list)"
   ]
  },
  {
   "cell_type": "code",
   "execution_count": 30,
   "metadata": {},
   "outputs": [
    {
     "name": "stdout",
     "output_type": "stream",
     "text": [
      "[500, 30, 10]\n",
      "[500, 30, 10]\n",
      "[500, 30, 10]\n",
      "[500, 30, 10, 400, 900] [500, 30, 10, 400, 900] [500, 30, 10]\n"
     ]
    }
   ],
   "source": [
    "list3 = list2        # Assignment operator --> changes are taken\n",
    "print(list2)\n",
    "print(list3)\n",
    "list4 = list2.copy() # Changes are not copied\n",
    "print(list4)\n",
    "list2.append(400)\n",
    "list2.append(900)\n",
    "print(list2,list3,list4)"
   ]
  },
  {
   "cell_type": "code",
   "execution_count": 32,
   "metadata": {},
   "outputs": [
    {
     "name": "stdout",
     "output_type": "stream",
     "text": [
      "1\n"
     ]
    }
   ],
   "source": [
    "print(list2.count(500)) # No.of Occurences"
   ]
  },
  {
   "cell_type": "code",
   "execution_count": 34,
   "metadata": {},
   "outputs": [
    {
     "name": "stdout",
     "output_type": "stream",
     "text": [
      "Sub Marks:10\n",
      "Sub Marks:20\n",
      "Sub Marks:30\n",
      "60\n"
     ]
    }
   ],
   "source": [
    "# Accept three sub marks of the student and store all the marks in a list, and return total marks of the student\n",
    "a = int(input(\"Sub Marks:\"))\n",
    "b = int(input(\"Sub Marks:\"))\n",
    "c = int(input(\"Sub Marks:\"))\n",
    "marks = [a,b,c]\n",
    "sum = 0\n",
    "for i in marks:\n",
    "    sum+=i\n",
    "print(\"Total Marks:\",sum)"
   ]
  },
  {
   "cell_type": "code",
   "execution_count": 2,
   "metadata": {},
   "outputs": [
    {
     "name": "stdout",
     "output_type": "stream",
     "text": [
      "No. of Subjects:5\n",
      "Marks:10\n",
      "Marks:10\n",
      "Marks:10\n",
      "Marks:10\n",
      "Marks:10\n",
      "[10, 10, 10, 10, 10]\n",
      "Sum: 50\n"
     ]
    }
   ],
   "source": [
    "n = int(input(\"No. of Subjects:\"))\n",
    "marks1 = []\n",
    "for i in range(n):\n",
    "    marks1.append(int(input(\"Marks:\")))\n",
    "print(marks1)\n",
    "print(\"Sum:\",sum(marks1))"
   ]
  },
  {
   "cell_type": "markdown",
   "metadata": {},
   "source": [
    "### Tuple"
   ]
  },
  {
   "cell_type": "code",
   "execution_count": 9,
   "metadata": {},
   "outputs": [
    {
     "name": "stdout",
     "output_type": "stream",
     "text": [
      "(23, 34, 45, 'abc')\n",
      "[23, 34, 45, 'abc']\n",
      "(23, 34, 100, 'abc')\n"
     ]
    }
   ],
   "source": [
    "# Tuple - Indexed,Ordered, Allows Duplicate values, Immutable\n",
    "# use (), allows only two operations count, index\n",
    "t1 = (23, 34, 45, \"abc\")\n",
    "print(t1)\n",
    "l1 = list(t1)\n",
    "print(l1)\n",
    "l1[2] = 100\n",
    "t1 = tuple(l1)\n",
    "print(t1)"
   ]
  },
  {
   "cell_type": "markdown",
   "metadata": {},
   "source": [
    "### Dictionary"
   ]
  },
  {
   "cell_type": "code",
   "execution_count": 15,
   "metadata": {},
   "outputs": [
    {
     "name": "stdout",
     "output_type": "stream",
     "text": [
      "{'Name': 'Satwik', 'Course': 'CSE', 'Roll No.': '25'}\n",
      "{'Name': 'Satwik', 'Course': 'CSE', 'Roll No.': '25', 'address': 'HYD'}\n",
      "Satwik\n"
     ]
    }
   ],
   "source": [
    "# Dictionary\n",
    "# Syntax --> dict1 = {key1:value1, key2:value2:.....} \n",
    "# Rukes for Keys:\n",
    "# 1. Keys should be unique\n",
    "# 2. Keys should be Immutable (number, strings, tuple)\n",
    "dict1 = {\"Name\":\"Satwik\",\"Course\":\"CSE\",\"Roll No.\":\"25\"}\n",
    "print(dict1)\n",
    "# Adding new Entry\n",
    "dict1[\"address\"] = \"HYD\"      # Dictionary_name[\"key\"] = \"Value\"\n",
    "print(dict1)\n",
    "print(dict1[\"Name\"])\n"
   ]
  },
  {
   "cell_type": "code",
   "execution_count": 16,
   "metadata": {},
   "outputs": [
    {
     "name": "stdout",
     "output_type": "stream",
     "text": [
      "{'Name': 'Satwik', 'Course': 'CSE', 'Roll No.': '25'}\n"
     ]
    }
   ],
   "source": [
    "#Deleting\n",
    "del dict1[\"address\"]\n",
    "print(dict1)"
   ]
  },
  {
   "cell_type": "code",
   "execution_count": 17,
   "metadata": {},
   "outputs": [
    {
     "name": "stdout",
     "output_type": "stream",
     "text": [
      "{'Name': 'Satwik', 'Course': 'ECE', 'Roll No.': '25'}\n"
     ]
    }
   ],
   "source": [
    "# Udating\n",
    "dict1[\"Course\"] = \"ECE\"\n",
    "print(dict1)"
   ]
  },
  {
   "cell_type": "code",
   "execution_count": null,
   "metadata": {},
   "outputs": [],
   "source": []
  }
 ],
 "metadata": {
  "kernelspec": {
   "display_name": "Python 3",
   "language": "python",
   "name": "python3"
  },
  "language_info": {
   "codemirror_mode": {
    "name": "ipython",
    "version": 3
   },
   "file_extension": ".py",
   "mimetype": "text/x-python",
   "name": "python",
   "nbconvert_exporter": "python",
   "pygments_lexer": "ipython3",
   "version": "3.7.1"
  }
 },
 "nbformat": 4,
 "nbformat_minor": 2
}
