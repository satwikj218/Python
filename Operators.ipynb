{
 "cells": [
  {
   "cell_type": "code",
   "execution_count": 1,
   "metadata": {},
   "outputs": [
    {
     "data": {
      "text/plain": [
       "3.3333333333333335"
      ]
     },
     "execution_count": 1,
     "metadata": {},
     "output_type": "execute_result"
    }
   ],
   "source": [
    "10/3"
   ]
  },
  {
   "cell_type": "code",
   "execution_count": 2,
   "metadata": {},
   "outputs": [
    {
     "data": {
      "text/plain": [
       "3"
      ]
     },
     "execution_count": 2,
     "metadata": {},
     "output_type": "execute_result"
    }
   ],
   "source": [
    "10//3 # '//' Float Division gives Integer values"
   ]
  },
  {
   "cell_type": "code",
   "execution_count": 3,
   "metadata": {},
   "outputs": [
    {
     "data": {
      "text/plain": [
       "32"
      ]
     },
     "execution_count": 3,
     "metadata": {},
     "output_type": "execute_result"
    }
   ],
   "source": [
    "2**5 # '**' Power or Exponent"
   ]
  },
  {
   "cell_type": "code",
   "execution_count": 4,
   "metadata": {},
   "outputs": [
    {
     "data": {
      "text/plain": [
       "False"
      ]
     },
     "execution_count": 4,
     "metadata": {},
     "output_type": "execute_result"
    }
   ],
   "source": [
    "12<45 and 34>89 # AND operator"
   ]
  },
  {
   "cell_type": "code",
   "execution_count": null,
   "metadata": {},
   "outputs": [
    {
     "data": {
      "text/plain": [
       "True"
      ]
     },
     "execution_count": 5,
     "metadata": {},
     "output_type": "execute_result"
    }
   ],
   "source": [
    "not 12>45 # NOT Operator"
   ]
  },
  {
   "cell_type": "code",
   "execution_count": null,
   "metadata": {},
   "outputs": [
    {
     "name": "stdout",
     "output_type": "stream",
     "text": [
      "False\n",
      "True\n",
      "True\n",
      "False\n",
      "True\n"
     ]
    }
   ],
   "source": [
    "# Membership Operators --> in, not in\n",
    "str1=\"abc xyz\"\n",
    "print('w' in str1)\n",
    "print('a' in str1)\n",
    "print('xyz' in str1)\n",
    "print('abc' not in str1)\n",
    "print('def' not in str1)"
   ]
  },
  {
   "cell_type": "code",
   "execution_count": null,
   "metadata": {},
   "outputs": [
    {
     "name": "stdout",
     "output_type": "stream",
     "text": [
      "False\n",
      "True\n",
      "140718770795632 140718770795952\n"
     ]
    }
   ],
   "source": [
    "# Identity Operators --> is, is not\n",
    "x = 10\n",
    "y = 20\n",
    "print(x is y)\n",
    "print(x is not y)\n",
    "print(id(x),id(y)) # id is to find the location of the object"
   ]
  },
  {
   "cell_type": "code",
   "execution_count": null,
   "metadata": {},
   "outputs": [
    {
     "name": "stdout",
     "output_type": "stream",
     "text": [
      "True\n",
      "140718770795632 140718770795632\n"
     ]
    }
   ],
   "source": [
    "x=10\n",
    "y=10\n",
    "print(x is y)\n",
    "print(id(x),id(y))"
   ]
  },
  {
   "cell_type": "code",
   "execution_count": null,
   "metadata": {},
   "outputs": [
    {
     "name": "stdout",
     "output_type": "stream",
     "text": [
      "x<y\n"
     ]
    }
   ],
   "source": [
    "x = 10\n",
    "y = 20\n",
    "print(\"x<y\") if x<y else print(\"x>y\") # Conditional Operator (or) Ternary Operator\n",
    "# Syntax: True_stmt if Condition else False_stmt"
   ]
  },
  {
   "cell_type": "code",
   "execution_count": null,
   "metadata": {},
   "outputs": [
    {
     "name": "stdout",
     "output_type": "stream",
     "text": [
      "x<y\n",
      "Hi\n"
     ]
    }
   ],
   "source": [
    "#Nested if - else\n",
    "if x<y:\n",
    "    print(\"x<y\")\n",
    "    if 12>78:\n",
    "        print(\"Hello\")\n",
    "    else:\n",
    "        print(\"Hi\")\n",
    "else:\n",
    "    print(\"x>y\")"
   ]
  },
  {
   "cell_type": "code",
   "execution_count": null,
   "metadata": {},
   "outputs": [],
   "source": [
    "# Accept a Number as an Input and print whether it is Positive or Negative or Zero\n",
    "x=int(input(\"Enter the number: \"))\n",
    "if x>0:\n",
    "    print(\"Positive\")\n",
    "elif x==0:\n",
    "    print(\"Zero\")\n",
    "else:\n",
    "    print(\"Negative\")"
   ]
  },
  {
   "cell_type": "code",
   "execution_count": null,
   "metadata": {},
   "outputs": [],
   "source": [
    "# Accept a Number as Input and check whether it is Divisible 2 and 3 and Not Divisible by 4\n",
    "n=int(input(\"Enter the Number: \"))\n",
    "if (n%2==0) and (n%3==0) and (n%4!=0):\n",
    "    print(\"Divisible\")\n",
    "else:\n",
    "    print(\"Not Divisible\")"
   ]
  },
  {
   "cell_type": "code",
   "execution_count": null,
   "metadata": {},
   "outputs": [],
   "source": [
    "# Accept marks of the students of 3 subjects, if he gets greater than 30 marks in all subjects go for finding average,\n",
    "# if he gets less than 30 in any of the subjects then print fail directly on the screen\n",
    "# if average greater than 75 print the grade as A.\n",
    "# if average is greater than 65 and less than 75 give the grade as B.\n",
    "# if average>50 and avg<65 C.\n",
    "# if avg>30 and avg<50 D.\n",
    "# else fail.\n",
    "x,y,z = map(int,input(\"Enter the Marks:\").split())  # 'map' is used to take multiple inputs in a single line\n",
    "if (x>30) and (y>30) and (z>30):                    # '.split()' is used to split the varibles which are mapped together\n",
    "    avg = (x+y+z)/3\n",
    "    if avg>=75:\n",
    "        print(\"A\")\n",
    "    elif avg>=65 and avg<75:\n",
    "        print(\"B\")\n",
    "    elif avg>=50 and avg<65:\n",
    "        print(\"C\")\n",
    "    elif avg>=30 and avg<50:\n",
    "        print(\"D\")\n",
    "    else:\n",
    "        print(\"Fail\")\n",
    "else:\n",
    "    print(\"Fail\")"
   ]
  },
  {
   "cell_type": "code",
   "execution_count": null,
   "metadata": {},
   "outputs": [],
   "source": [
    "# While Loop\n",
    "i = 1\n",
    "n = int(input())\n",
    "while i<=n:\n",
    "    print(i,end = ' ')\n",
    "    i=i+1"
   ]
  },
  {
   "cell_type": "code",
   "execution_count": null,
   "metadata": {},
   "outputs": [],
   "source": [
    "# Sum of n Natural Nos.\n",
    "i = 1\n",
    "sum = 0\n",
    "n = int(input())\n",
    "while i<=n:\n",
    "    sum=sum+i\n",
    "    i+=1\n",
    "print(\"Sum:\",sum)"
   ]
  },
  {
   "cell_type": "code",
   "execution_count": null,
   "metadata": {},
   "outputs": [],
   "source": [
    "#Sum of Even Nos.\n",
    "i = 1\n",
    "sum = 0\n",
    "n = int(input())\n",
    "while i<=n:\n",
    "    if i%2==0:\n",
    "        sum=sum+i\n",
    "    i+=1\n",
    "print(\"Sum:\",sum)"
   ]
  },
  {
   "cell_type": "code",
   "execution_count": null,
   "metadata": {},
   "outputs": [],
   "source": [
    "# Accept a numbe rand print in reverse\n",
    "n = int(input())\n",
    "rem=0\n",
    "while n!=0:\n",
    "    rem=n%10\n",
    "    print(rem,end = '')\n",
    "    n//=10"
   ]
  },
  {
   "cell_type": "code",
   "execution_count": null,
   "metadata": {},
   "outputs": [],
   "source": [
    "# Accept a number and print the sum of the digits\n",
    "n = int(input())\n",
    "rem=0\n",
    "sum=0\n",
    "while n!=0:\n",
    "    rem=n%10\n",
    "    sum+=rem\n",
    "    n//=10\n",
    "print(sum)"
   ]
  },
  {
   "cell_type": "code",
   "execution_count": 2,
   "metadata": {},
   "outputs": [
    {
     "name": "stdout",
     "output_type": "stream",
     "text": [
      "26\n"
     ]
    }
   ],
   "source": [
    "# Accept a string and print the sum of digits in the given string\n",
    "str1=\"application1889\"\n",
    "i=0\n",
    "sum=0\n",
    "while i<len(str1):\n",
    "    if str1[i].isdigit():\n",
    "        sum+=int(str1[i])\n",
    "    i+=1\n",
    "print(sum)"
   ]
  },
  {
   "cell_type": "code",
   "execution_count": 6,
   "metadata": {},
   "outputs": [
    {
     "name": "stdout",
     "output_type": "stream",
     "text": [
      "26\n"
     ]
    }
   ],
   "source": [
    "str1=\"application1889\"\n",
    "i=0\n",
    "sum=0\n",
    "while i<len(str1):\n",
    "    if ord(str1[i])>=48 and ord(str1[i])<=57: # ord() function is used to find the ASCII Value\n",
    "        sum+=int(str1[i])\n",
    "    i+=1\n",
    "print(sum)"
   ]
  },
  {
   "cell_type": "code",
   "execution_count": 11,
   "metadata": {},
   "outputs": [
    {
     "name": "stdout",
     "output_type": "stream",
     "text": [
      "97\n",
      "122\n",
      "48\n",
      "57\n",
      "65\n",
      "90\n"
     ]
    }
   ],
   "source": [
    "# ASCII Values\n",
    "print(ord('a'))\n",
    "print(ord('z'))\n",
    "print(ord('0'))\n",
    "print(ord('9'))\n",
    "print(ord('A'))\n",
    "print(ord('Z'))"
   ]
  },
  {
   "cell_type": "code",
   "execution_count": 14,
   "metadata": {},
   "outputs": [
    {
     "name": "stdout",
     "output_type": "stream",
     "text": [
      "26\n"
     ]
    }
   ],
   "source": [
    "sum=0\n",
    "for i in str1:\n",
    "    if i.isdigit():\n",
    "        sum+=int(i)\n",
    "print(sum)"
   ]
  },
  {
   "cell_type": "code",
   "execution_count": 20,
   "metadata": {},
   "outputs": [
    {
     "name": "stdout",
     "output_type": "stream",
     "text": [
      "10\n",
      "1 2 3 4 5 6 7 8 9 10 "
     ]
    }
   ],
   "source": [
    "# print n natural nos\n",
    "n=int(input())\n",
    "for i in range(1,n+1):\n",
    "    print(i,end = ' ')"
   ]
  },
  {
   "cell_type": "code",
   "execution_count": 30,
   "metadata": {},
   "outputs": [
    {
     "name": "stdout",
     "output_type": "stream",
     "text": [
      "abcdefghijklmnopqrstuvwxyz\n",
      "abcdefghijklmnopqrstuvwxyz\n",
      "abcdefghijklmnopqrstuvwxyz\n",
      "abcdefghijklmnopqrstuvwxyz\n"
     ]
    }
   ],
   "source": [
    "s1 = 'abcdefghijklmnopqrstuvwxyz'\n",
    "width = 4\n",
    "for i in range(0,widt"
   ]
  },
  {
   "cell_type": "code",
   "execution_count": null,
   "metadata": {},
   "outputs": [],
   "source": []
  }
 ],
 "metadata": {
  "kernelspec": {
   "display_name": "Python 3",
   "language": "python",
   "name": "python3"
  },
  "language_info": {
   "codemirror_mode": {
    "name": "ipython",
    "version": 3
   },
   "file_extension": ".py",
   "mimetype": "text/x-python",
   "name": "python",
   "nbconvert_exporter": "python",
   "pygments_lexer": "ipython3",
   "version": "3.7.1"
  }
 },
 "nbformat": 4,
 "nbformat_minor": 2
}
